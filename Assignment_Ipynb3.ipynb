{
  "nbformat": 4,
  "nbformat_minor": 0,
  "metadata": {
    "colab": {
      "provenance": []
    },
    "kernelspec": {
      "name": "python3",
      "display_name": "Python 3"
    },
    "language_info": {
      "name": "python"
    }
  },
  "cells": [
    {
      "cell_type": "markdown",
      "source": [
        "####1. Why are functions advantageous to have in your programs?\n",
        "\n",
        "######Answer :- Functions reduce the need for duplicate code. This makes programs shorter, easier to read, and easier to update."
      ],
      "metadata": {
        "id": "mk8-QTez8gYg"
      }
    },
    {
      "cell_type": "markdown",
      "source": [
        "####2. When does the code in a function run: when it's specified or when it's called?\n",
        "Answer :- The code in a function executes when the function is called, not when the function is defined."
      ],
      "metadata": {
        "id": "nluDcwH5-u5z"
      }
    },
    {
      "cell_type": "markdown",
      "source": [
        "####3. What statement creates a function?\n",
        "Answer :- The def statement defines, i.e. creates a function."
      ],
      "metadata": {
        "id": "u53fC_mMG3_X"
      }
    },
    {
      "cell_type": "markdown",
      "source": [
        "####4. What is the difference between a function and a function call?\n",
        "Answer :- A function consists of the def statement and the code in its def clause. A function call is what moves the program execution into the function, and the function call evaluates to the function's return value."
      ],
      "metadata": {
        "id": "BYh9UgYrHjMQ"
      }
    },
    {
      "cell_type": "markdown",
      "source": [
        "####5. How many global scopes are there in a Python program? How many local scopes?\n",
        "Answer :- There is one global scope, and a local scope is created whenever a function is called."
      ],
      "metadata": {
        "id": "hydJEDlyNeIC"
      }
    },
    {
      "cell_type": "markdown",
      "source": [
        "####6. What happens to variables in a local scope when the function call returns?\n",
        "Answer :- When a function returns, the local scope is destroyed, and all the variables in it are forgotten."
      ],
      "metadata": {
        "id": "rsv8zerYN39u"
      }
    },
    {
      "cell_type": "markdown",
      "source": [
        "####7. What is the concept of a return value? Is it possible to have a return value in an expression?\n",
        "Answer :- A return value is the value that a function call evaluates to. Like any value, a return value can be used as part of an expression."
      ],
      "metadata": {
        "id": "HXlQaNruOSB4"
      }
    },
    {
      "cell_type": "markdown",
      "source": [
        "####8. If a function does not have a return statement, what is the return value of a call to that function?\n",
        "Answer :- If there is no return statement for a function, its return value is None."
      ],
      "metadata": {
        "id": "eiLMBNXaO_KE"
      }
    },
    {
      "cell_type": "markdown",
      "source": [
        "####9. How do you make a function variable refer to the global variable?\n",
        "Answer :- A global statement will force a variable in a function to refer to the global variable."
      ],
      "metadata": {
        "id": "DjAah4X1Pp7J"
      }
    },
    {
      "cell_type": "markdown",
      "source": [
        "####10. What is the data type of None?\n",
        "Answer :- He data type of None is NoneType."
      ],
      "metadata": {
        "id": "CW8ZyH0ZP9GU"
      }
    },
    {
      "cell_type": "markdown",
      "source": [
        "####11. What does the sentence import areallyourpetsnamederic do?\n",
        "Answer :- That import statement imports a module named areallyourpetsnamederic."
      ],
      "metadata": {
        "id": "7reXkH0ZQRJO"
      }
    },
    {
      "cell_type": "markdown",
      "source": [
        "####12. If you had a bacon() feature in a spam module, what would you call it after importing spam?\n",
        "Answer :- This function can be called with spam.bacon()."
      ],
      "metadata": {
        "id": "FewpU2f4QeQ_"
      }
    },
    {
      "cell_type": "markdown",
      "source": [
        "####13. What can you do to save a programme from crashing if it encounters an error?\n",
        "Answer :- Place the line of code that might cause an error in a try clause."
      ],
      "metadata": {
        "id": "GawglkVUQqrk"
      }
    },
    {
      "cell_type": "markdown",
      "source": [
        "####14. What is the purpose of the try clause? What is the purpose of the except clause?\n",
        "Answer :- The code that could potentially cause an error goes in the try clause.\n",
        "\n",
        "The code that executes if an error happens goes in the except clause."
      ],
      "metadata": {
        "id": "JlIZMCpGQ1tq"
      }
    }
  ]
}